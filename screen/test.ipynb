{
 "cells": [
  {
   "cell_type": "code",
   "execution_count": 1,
   "metadata": {},
   "outputs": [
    {
     "name": "stdout",
     "output_type": "stream",
     "text": [
      "hello\n"
     ]
    }
   ],
   "source": [
    "print('hello');"
   ]
  },
  {
   "cell_type": "code",
   "execution_count": 2,
   "metadata": {
    "tags": []
   },
   "outputs": [
    {
     "name": "stdout",
     "output_type": "stream",
     "text": [
      "Sum of A and B is 78\n"
     ]
    }
   ],
   "source": [
    "A=45\n",
    "B=33\n",
    "print('Sum of A and B is', A+B);"
   ]
  },
  {
   "cell_type": "code",
   "execution_count": 3,
   "metadata": {
    "tags": []
   },
   "outputs": [
    {
     "name": "stdout",
     "output_type": "stream",
     "text": [
      "17\n"
     ]
    }
   ],
   "source": [
    "a=5\n",
    "b=12\n",
    "print(a+b)"
   ]
  },
  {
   "cell_type": "code",
   "execution_count": 4,
   "metadata": {},
   "outputs": [
    {
     "name": "stdout",
     "output_type": "stream",
     "text": [
      "Multiplication 60\n"
     ]
    }
   ],
   "source": [
    "print('Multiplication', a*b)"
   ]
  },
  {
   "cell_type": "code",
   "execution_count": 5,
   "metadata": {},
   "outputs": [
    {
     "name": "stdout",
     "output_type": "stream",
     "text": [
      "division of A and B 1.3636363636363635\n"
     ]
    }
   ],
   "source": [
    "print('division of A and B', A/B)"
   ]
  },
  {
   "cell_type": "markdown",
   "metadata": {},
   "source": [
    "Oprators in python"
   ]
  },
  {
   "cell_type": "code",
   "execution_count": 6,
   "metadata": {},
   "outputs": [
    {
     "data": {
      "text/plain": [
       "1"
      ]
     },
     "execution_count": 6,
     "metadata": {},
     "output_type": "execute_result"
    }
   ],
   "source": [
    "A//B"
   ]
  },
  {
   "cell_type": "code",
   "execution_count": 7,
   "metadata": {},
   "outputs": [
    {
     "data": {
      "text/plain": [
       "12"
      ]
     },
     "execution_count": 7,
     "metadata": {},
     "output_type": "execute_result"
    }
   ],
   "source": [
    "A%B"
   ]
  },
  {
   "cell_type": "code",
   "execution_count": 8,
   "metadata": {},
   "outputs": [
    {
     "data": {
      "text/plain": [
       "False"
      ]
     },
     "execution_count": 8,
     "metadata": {},
     "output_type": "execute_result"
    }
   ],
   "source": [
    "check = a==b\n",
    "check"
   ]
  },
  {
   "cell_type": "code",
   "execution_count": 9,
   "metadata": {},
   "outputs": [
    {
     "data": {
      "text/plain": [
       "False"
      ]
     },
     "execution_count": 9,
     "metadata": {},
     "output_type": "execute_result"
    }
   ],
   "source": [
    "check = a>b\n",
    "check"
   ]
  },
  {
   "cell_type": "code",
   "execution_count": 10,
   "metadata": {},
   "outputs": [
    {
     "name": "stdout",
     "output_type": "stream",
     "text": [
      "43\n"
     ]
    }
   ],
   "source": [
    "c = 20\n",
    "c += 23\n",
    "print (c)"
   ]
  },
  {
   "cell_type": "code",
   "execution_count": 11,
   "metadata": {},
   "outputs": [
    {
     "name": "stdout",
     "output_type": "stream",
     "text": [
      "30\n"
     ]
    }
   ],
   "source": [
    "c -= 13\n",
    "print(c)"
   ]
  },
  {
   "cell_type": "markdown",
   "metadata": {},
   "source": [
    "The following a python conditional statements AND logical operators;"
   ]
  },
  {
   "cell_type": "code",
   "execution_count": 12,
   "metadata": {},
   "outputs": [
    {
     "name": "stdout",
     "output_type": "stream",
     "text": [
      "a is smaller than b\n"
     ]
    }
   ],
   "source": [
    "if a==B:\n",
    "   print('a is Equal to B')\n",
    "elif a>b:\n",
    "   print('a is greater than b')\n",
    "else:\n",
    "   print('a is smaller than b')"
   ]
  },
  {
   "cell_type": "markdown",
   "metadata": {},
   "source": [
    "python loops"
   ]
  },
  {
   "cell_type": "code",
   "execution_count": 13,
   "metadata": {},
   "outputs": [
    {
     "name": "stdout",
     "output_type": "stream",
     "text": [
      "4 X 1 = 4\n",
      "4 X 2 = 8\n",
      "4 X 3 = 12\n",
      "4 X 4 = 16\n",
      "4 X 5 = 20\n",
      "4 X 6 = 24\n",
      "4 X 7 = 28\n",
      "4 X 8 = 32\n",
      "4 X 9 = 36\n",
      "4 X 10 = 40\n"
     ]
    }
   ],
   "source": [
    "x = int(input(\"Enter a number : \"))\n",
    "for i in range(1,11):\n",
    "   print(x, \"X\", i,\"=\", x*i);"
   ]
  },
  {
   "cell_type": "markdown",
   "metadata": {},
   "source": [
    "For Loop below"
   ]
  },
  {
   "cell_type": "code",
   "execution_count": 14,
   "metadata": {
    "tags": []
   },
   "outputs": [
    {
     "name": "stdout",
     "output_type": "stream",
     "text": [
      "4\n",
      "5\n",
      "3\n",
      "2\n",
      "5\n"
     ]
    }
   ],
   "source": [
    "x = [5];\n",
    "for i in range(1,6):\n",
    "   x = int(input(\"Enter A number\"));\n",
    "   print(x);"
   ]
  },
  {
   "cell_type": "markdown",
   "metadata": {},
   "source": [
    "While loop below"
   ]
  },
  {
   "cell_type": "code",
   "execution_count": 15,
   "metadata": {},
   "outputs": [
    {
     "name": "stdout",
     "output_type": "stream",
     "text": [
      "1\n",
      "3\n",
      "5\n",
      "7\n",
      "9\n"
     ]
    }
   ],
   "source": [
    "a = 1\n",
    "while a <10:\n",
    "   print(a);\n",
    "   a = a+2;"
   ]
  },
  {
   "cell_type": "markdown",
   "metadata": {},
   "source": [
    "For loop with break statement"
   ]
  },
  {
   "cell_type": "code",
   "execution_count": 16,
   "metadata": {},
   "outputs": [
    {
     "name": "stdout",
     "output_type": "stream",
     "text": [
      "f\n",
      "i\n",
      "t\n"
     ]
    }
   ],
   "source": [
    "';5r4';# using of break statement\n",
    "\n",
    "for i in \"fitness\":\n",
    "   if i == \"n\":\n",
    "      break\n",
    "   print(i)"
   ]
  },
  {
   "cell_type": "markdown",
   "metadata": {},
   "source": [
    "For loop with continue statement"
   ]
  },
  {
   "cell_type": "code",
   "execution_count": 17,
   "metadata": {},
   "outputs": [
    {
     "name": "stdout",
     "output_type": "stream",
     "text": [
      "1\n",
      "2\n",
      "3\n",
      "4\n",
      "6\n",
      "7\n"
     ]
    }
   ],
   "source": [
    "# use of continue statement\n",
    "for i in range(1,8,1):\n",
    "   if i == 5:\n",
    "      continue\n",
    "   print(i)"
   ]
  },
  {
   "cell_type": "markdown",
   "metadata": {},
   "source": [
    "DATA STRUCTURES IN PYTHON\n",
    "\n",
    "STRINGS \n",
    "\n",
    "LISTS \n",
    "\n",
    "TUPLES\n",
    " \n",
    "DICTIONARY"
   ]
  },
  {
   "cell_type": "code",
   "execution_count": 18,
   "metadata": {},
   "outputs": [
    {
     "name": "stdout",
     "output_type": "stream",
     "text": [
      "Hello\n"
     ]
    }
   ],
   "source": [
    "str = 'Hello'\n",
    "print(str);"
   ]
  },
  {
   "cell_type": "markdown",
   "metadata": {},
   "source": [
    "Index slicing"
   ]
  },
  {
   "cell_type": "code",
   "execution_count": 19,
   "metadata": {},
   "outputs": [
    {
     "name": "stdout",
     "output_type": "stream",
     "text": [
      "H\n",
      "l\n",
      "Hello\n",
      "olleH\n",
      "Hell\n"
     ]
    }
   ],
   "source": [
    "print(str[0])\n",
    "print(str[3])\n",
    "print(str[::])\n",
    "print(str[::-1])\n",
    "print(str[:-1])"
   ]
  },
  {
   "cell_type": "code",
   "execution_count": 20,
   "metadata": {},
   "outputs": [
    {
     "name": "stdout",
     "output_type": "stream",
     "text": [
      "ell\n",
      "llo\n",
      "HelloHelloHello\n",
      "Hello Python\n"
     ]
    }
   ],
   "source": [
    "print(str[1:4])\n",
    "print(str[2 : ])\n",
    "print(str * 3)\n",
    "print(str + \" Python\")"
   ]
  },
  {
   "cell_type": "code",
   "execution_count": 21,
   "metadata": {},
   "outputs": [
    {
     "name": "stdout",
     "output_type": "stream",
     "text": [
      "5\n",
      "W\n",
      "D\n"
     ]
    }
   ],
   "source": [
    "str1 = \"WORLD\"\n",
    "print(len(str1))\n",
    "print(max(str1))\n",
    "print(min(str1))"
   ]
  },
  {
   "cell_type": "markdown",
   "metadata": {},
   "source": [
    "Use of membership operator in string"
   ]
  },
  {
   "cell_type": "code",
   "execution_count": 22,
   "metadata": {},
   "outputs": [
    {
     "name": "stdout",
     "output_type": "stream",
     "text": [
      "True\n",
      "True\n"
     ]
    }
   ],
   "source": [
    "str1 = 'world'\n",
    "print(\"Python\" not in str1)\n",
    "print(\"world\" in str1)"
   ]
  },
  {
   "cell_type": "code",
   "execution_count": 23,
   "metadata": {},
   "outputs": [
    {
     "name": "stdout",
     "output_type": "stream",
     "text": [
      "workout\n"
     ]
    }
   ],
   "source": [
    "#immutable sequence of characters\n",
    "str5 = 'workout'\n",
    "# str5[0] = 'j'\n",
    "print(str5)"
   ]
  },
  {
   "cell_type": "markdown",
   "metadata": {},
   "source": [
    "Split function"
   ]
  },
  {
   "cell_type": "code",
   "execution_count": 24,
   "metadata": {},
   "outputs": [
    {
     "name": "stdout",
     "output_type": "stream",
     "text": [
      "['i', 'love', 'Tanzania', 'and', 'Africa']\n"
     ]
    }
   ],
   "source": [
    "str2 = 'i love Tanzania and Africa'\n",
    "print(str2.split())"
   ]
  },
  {
   "cell_type": "code",
   "execution_count": 25,
   "metadata": {},
   "outputs": [
    {
     "name": "stdout",
     "output_type": "stream",
     "text": [
      "['ram', 'shyam', 'roy']\n",
      "[1, 2, 3, 4]\n",
      "['a', 'b', 'c', 'd', 'e']\n"
     ]
    }
   ],
   "source": [
    "list=['ram','shyam','roy']\n",
    "list1=[1,2,3,4,]\n",
    "list2=['a','b','c','d','e']\n",
    "print(list)\n",
    "print(list1)\n",
    "print(list2)"
   ]
  },
  {
   "cell_type": "code",
   "execution_count": 26,
   "metadata": {},
   "outputs": [
    {
     "name": "stdout",
     "output_type": "stream",
     "text": [
      "ram\n",
      "2\n",
      "c\n",
      "3\n"
     ]
    }
   ],
   "source": [
    "#how to access list elements\n",
    "print(list[0])\n",
    "print(list1[1])\n",
    "print(list2[-3])\n",
    "print(list1[-2])"
   ]
  },
  {
   "cell_type": "markdown",
   "metadata": {},
   "source": [
    "#during slicing:::syntax : list_variable[start_index : end_index : step_size]"
   ]
  },
  {
   "cell_type": "code",
   "execution_count": 27,
   "metadata": {},
   "outputs": [
    {
     "name": "stdout",
     "output_type": "stream",
     "text": [
      "[1, 14, 33]\n",
      "[1, 14, 33, 2, 'sam']\n",
      "['work', 'until']\n"
     ]
    }
   ],
   "source": [
    "list = [\"raj\", 1, 14, 33, 2, \"sam\"]\n",
    "list1 = [\"work\",\"hard\",\"until\",\"success\"]\n",
    "print(list[1:4])\n",
    "print(list[1:])\n",
    "print(list1[0:4:2])"
   ]
  },
  {
   "cell_type": "code",
   "execution_count": 28,
   "metadata": {},
   "outputs": [
    {
     "name": "stdout",
     "output_type": "stream",
     "text": [
      "['sam', 2, 33, 14, 1, 'raj']\n",
      "['raj', 1, 14, 33, 2, 'sam', 'raj', 1, 14, 33, 2, 'sam']\n",
      "['raj', 1, 14, 33, 2, 'sam', 'work', 'hard', 'until', 'success']\n"
     ]
    }
   ],
   "source": [
    "print(list[::-1])\n",
    "print(list * 2)\n",
    "print(list + list1)"
   ]
  },
  {
   "cell_type": "markdown",
   "metadata": {},
   "source": [
    "List Built_in_Methods"
   ]
  },
  {
   "cell_type": "code",
   "execution_count": 29,
   "metadata": {},
   "outputs": [
    {
     "name": "stdout",
     "output_type": "stream",
     "text": [
      "6\n",
      "7\n",
      "1\n",
      "28\n"
     ]
    }
   ],
   "source": [
    "list = [\"hello\", 1,2,3,4, \"friends\"]\n",
    "list1 = [1,2,3,4,5,6,7]\n",
    "print(len(list))\n",
    "print(max(list1))\n",
    "print(min(list1))\n",
    "print(sum(list1))"
   ]
  },
  {
   "cell_type": "markdown",
   "metadata": {},
   "source": [
    "insert()"
   ]
  },
  {
   "cell_type": "code",
   "execution_count": 30,
   "metadata": {},
   "outputs": [
    {
     "name": "stdout",
     "output_type": "stream",
     "text": [
      "['Rigo', 1, 22, 3, 2, 5, 'Kiata']\n"
     ]
    }
   ],
   "source": [
    "list = ['Rigo', 1, 22, 3, 5, 'Kiata']\n",
    "list.insert(4,2)\n",
    "print(list)"
   ]
  },
  {
   "cell_type": "markdown",
   "metadata": {},
   "source": [
    "remove()"
   ]
  },
  {
   "cell_type": "code",
   "execution_count": 31,
   "metadata": {},
   "outputs": [
    {
     "name": "stdout",
     "output_type": "stream",
     "text": [
      "['roy', 1, 23, 5, 'abasi']\n"
     ]
    }
   ],
   "source": [
    "list = [\"roy\",1,23,4,5,\"abasi\"]\n",
    "list.remove(4)\n",
    "print(list)"
   ]
  },
  {
   "cell_type": "markdown",
   "metadata": {},
   "source": [
    "Append()"
   ]
  },
  {
   "cell_type": "code",
   "execution_count": 32,
   "metadata": {},
   "outputs": [
    {
     "name": "stdout",
     "output_type": "stream",
     "text": [
      "['roy', 1, 23, 5, 'abasi', 33]\n"
     ]
    }
   ],
   "source": [
    "list.append(33)\n",
    "print(list)"
   ]
  },
  {
   "cell_type": "code",
   "execution_count": 33,
   "metadata": {},
   "outputs": [
    {
     "name": "stdout",
     "output_type": "stream",
     "text": [
      "3\n"
     ]
    }
   ],
   "source": [
    "print(list.index(5))"
   ]
  },
  {
   "cell_type": "code",
   "execution_count": 34,
   "metadata": {},
   "outputs": [
    {
     "data": {
      "text/plain": [
       "1"
      ]
     },
     "execution_count": 34,
     "metadata": {},
     "output_type": "execute_result"
    }
   ],
   "source": [
    "list.count(5) "
   ]
  },
  {
   "cell_type": "code",
   "execution_count": 35,
   "metadata": {},
   "outputs": [
    {
     "name": "stdout",
     "output_type": "stream",
     "text": [
      "['manaj', 5, 4, 2, 'ben']\n"
     ]
    }
   ],
   "source": [
    "list = ['ben', 2, 4, 5, 'manaj']\n",
    "list.reverse()\n",
    "print(list)\n"
   ]
  },
  {
   "cell_type": "code",
   "execution_count": 36,
   "metadata": {},
   "outputs": [
    {
     "name": "stdout",
     "output_type": "stream",
     "text": [
      "Firstly reversed list =  ['manaj', 5, 4, 2, 'ben']\n",
      "Reversed list =  ['ben', 2, 4, 5, 'manaj']\n"
     ]
    }
   ],
   "source": [
    "print('Firstly reversed list = ', list)\n",
    "list.reverse()\n",
    "print('Reversed list = ',list)"
   ]
  },
  {
   "cell_type": "code",
   "execution_count": 37,
   "metadata": {},
   "outputs": [
    {
     "name": "stdout",
     "output_type": "stream",
     "text": [
      "First Element is removed\n",
      "[2, 4, 5, 'manaj']\n"
     ]
    }
   ],
   "source": [
    "list = ['ben', 2, 4, 5, 'manaj']\n",
    "list.pop(0)\n",
    "print('First Element is removed')\n",
    "print(list)"
   ]
  },
  {
   "cell_type": "code",
   "execution_count": 38,
   "metadata": {},
   "outputs": [
    {
     "name": "stdout",
     "output_type": "stream",
     "text": [
      "['b', 'c', 'a', 'e', 'd']\n",
      "['a', 'b', 'c', 'd', 'e']\n"
     ]
    }
   ],
   "source": [
    "list = ['b','c','a','e','d']\n",
    "print(list)\n",
    "list.sort()\n",
    "print(list)"
   ]
  },
  {
   "cell_type": "code",
   "execution_count": 39,
   "metadata": {},
   "outputs": [
    {
     "name": "stdout",
     "output_type": "stream",
     "text": [
      "[2, 4, 6, 1, 23, 3]\n",
      "[1, 2, 3, 4, 6, 23]\n"
     ]
    }
   ],
   "source": [
    "list = [2,4,6,1,23,3]\n",
    "print(list)\n",
    "list.sort()\n",
    "print(list)"
   ]
  },
  {
   "cell_type": "code",
   "execution_count": 40,
   "metadata": {},
   "outputs": [
    {
     "name": "stdout",
     "output_type": "stream",
     "text": [
      "List is  [3, 5, 7, 9, 11, 13, 15]\n",
      "New list is  []\n"
     ]
    }
   ],
   "source": [
    "list2 = [3,5,7,9,11,13,15]\n",
    "print('List is ', list2)\n",
    "list1 = [p for p in list2 if p%2 == 0]\n",
    "print('New list is ', list1)"
   ]
  },
  {
   "cell_type": "markdown",
   "metadata": {},
   "source": [
    "Splitting string in a list"
   ]
  },
  {
   "cell_type": "code",
   "execution_count": 41,
   "metadata": {},
   "outputs": [
    {
     "name": "stdout",
     "output_type": "stream",
     "text": [
      "['Gym', 'is', 'my', 'life']\n"
     ]
    }
   ],
   "source": [
    "x  = 'Gym is my life'\n",
    "y = x.split()\n",
    "print(y)"
   ]
  },
  {
   "cell_type": "markdown",
   "metadata": {},
   "source": [
    "TUPLES\n"
   ]
  },
  {
   "cell_type": "code",
   "execution_count": 42,
   "metadata": {},
   "outputs": [
    {
     "name": "stdout",
     "output_type": "stream",
     "text": [
      "(1, 2, 3, 4, 5, 6, 7)\n",
      "('trent', 'alex', 'arnold', 'Is', 'Less', 'than', 'dalot')\n",
      "('g', 'd', 'f', 'h', 'r', 't')\n"
     ]
    }
   ],
   "source": [
    "tuple = (1,2,3,4,5,6,7)\n",
    "tuple1 = ('trent', 'alex', 'arnold', 'Is', 'Less', 'than', 'dalot')\n",
    "tuple2 = ('g', 'd', 'f', 'h', 'r', 't')\n",
    "print(tuple)\n",
    "print(tuple1)\n",
    "print(tuple2)"
   ]
  },
  {
   "cell_type": "code",
   "execution_count": 43,
   "metadata": {},
   "outputs": [
    {
     "name": "stdout",
     "output_type": "stream",
     "text": [
      "(2, 3)\n",
      "('alex', 'arnold', 'Is', 'Less', 'than', 'dalot')\n",
      "g\n"
     ]
    }
   ],
   "source": [
    "print(tuple[1:3])\n",
    "print(tuple1[1:])\n",
    "print(tuple2[0])"
   ]
  },
  {
   "cell_type": "code",
   "execution_count": 44,
   "metadata": {},
   "outputs": [
    {
     "name": "stdout",
     "output_type": "stream",
     "text": [
      "(1, 2, 3, 4, 5)\n",
      "('trent', 'alex', 'arnold', 'Is', 'Less', 'than', 'dalot', 'trent', 'alex', 'arnold', 'Is', 'Less', 'than', 'dalot')\n",
      "('trent', 'alex', 'arnold', 'Is', 'Less', 'than', 'dalot', 'g', 'd', 'f', 'h', 'r', 't')\n"
     ]
    }
   ],
   "source": [
    "print(tuple[ : -2])\n",
    "print(tuple1 * 2)\n",
    "print(tuple1 + tuple2)"
   ]
  },
  {
   "cell_type": "markdown",
   "metadata": {},
   "source": [
    "BUILT IN METHODS"
   ]
  },
  {
   "cell_type": "code",
   "execution_count": 45,
   "metadata": {},
   "outputs": [
    {
     "name": "stdout",
     "output_type": "stream",
     "text": [
      "2\n"
     ]
    }
   ],
   "source": [
    "tuple1 = ('bicep', 'tricep', 111,222,'forearms','legs','bicep')\n",
    "print(tuple1.count('bicep'))"
   ]
  },
  {
   "cell_type": "code",
   "execution_count": 46,
   "metadata": {},
   "outputs": [
    {
     "name": "stdout",
     "output_type": "stream",
     "text": [
      "9\n",
      "88\n",
      "0\n",
      "188\n"
     ]
    }
   ],
   "source": [
    "tuple2 = (3,44,5,0,11,23,6,8,88)\n",
    "print(len(tuple2))\n",
    "print(max(tuple2))\n",
    "print(min(tuple2))\n",
    "print(sum(tuple2))"
   ]
  },
  {
   "cell_type": "code",
   "execution_count": 47,
   "metadata": {},
   "outputs": [
    {
     "name": "stdout",
     "output_type": "stream",
     "text": [
      "Merged tuple1 and tuple2 =  ('bicep', 'tricep', 111, 222, 'forearms', 'legs', 'bicep', 3, 44, 5, 0, 11, 23, 6, 8, 88)\n",
      "\n",
      "Element 88 is at index =  15\n"
     ]
    }
   ],
   "source": [
    "tuple3 = tuple1 + tuple2\n",
    "print('Merged tuple1 and tuple2 = ',tuple3)\n",
    "print('')\n",
    "print('Element 88 is at index = ',tuple3.index(88))"
   ]
  },
  {
   "cell_type": "markdown",
   "metadata": {},
   "source": [
    "Zip function()"
   ]
  },
  {
   "cell_type": "code",
   "execution_count": 48,
   "metadata": {},
   "outputs": [
    {
     "ename": "TypeError",
     "evalue": "'list' object is not callable",
     "output_type": "error",
     "traceback": [
      "\u001b[1;31m---------------------------------------------------------------------------\u001b[0m",
      "\u001b[1;31mTypeError\u001b[0m                                 Traceback (most recent call last)",
      "Cell \u001b[1;32mIn [48], line 9\u001b[0m\n\u001b[0;32m      5\u001b[0m y \u001b[39m=\u001b[39m \u001b[39m\"\u001b[39m\u001b[39mPqrt\u001b[39m\u001b[39m\"\u001b[39m\n\u001b[0;32m      6\u001b[0m z \u001b[39m=\u001b[39m [\u001b[39m2\u001b[39m,\u001b[39m3\u001b[39m,\u001b[39m4\u001b[39m,\u001b[39m6\u001b[39m]\n\u001b[1;32m----> 9\u001b[0m \u001b[39mprint\u001b[39m(\u001b[39mlist\u001b[39;49m(\u001b[39mzip\u001b[39;49m(x,y)))\n\u001b[0;32m     10\u001b[0m \u001b[39mprint\u001b[39m(\u001b[39mlist\u001b[39m(\u001b[39mzip\u001b[39m(x,y,z)))\n",
      "\u001b[1;31mTypeError\u001b[0m: 'list' object is not callable"
     ]
    }
   ],
   "source": [
    "#considering newly declared list, \n",
    "#the zip function groups lists into tuples\n",
    "\n",
    "x = ['a', 'b', 'c', 'd']\n",
    "y = \"Pqrt\"\n",
    "z = [2,3,4,6]\n",
    "\n",
    "\n",
    "print(list(zip(x,y)))\n",
    "print(list(zip(x,y,z)))"
   ]
  },
  {
   "cell_type": "code",
   "execution_count": null,
   "metadata": {},
   "outputs": [
    {
     "name": "stdout",
     "output_type": "stream",
     "text": [
      "{'name': 'Aayushi', 'id': 1198, 'branch': 'ME'}\n"
     ]
    }
   ],
   "source": [
    "D2 = {}\n",
    "D2['name'] = 'Aayushi'\n",
    "D2['id'] = 1198\n",
    "D2['branch'] = 'ME'\n",
    "print(D2)"
   ]
  },
  {
   "cell_type": "markdown",
   "metadata": {},
   "source": [
    "Dictionary creation ....example 2\n"
   ]
  },
  {
   "cell_type": "code",
   "execution_count": null,
   "metadata": {},
   "outputs": [
    {
     "name": "stdout",
     "output_type": "stream",
     "text": [
      "{'name': 'Adam', 'id': 1223, 'branch': 'Dom'}\n",
      "dict_keys(['name', 'id', 'branch'])\n",
      "dict_values(['Adam', 1223, 'Dom'])\n"
     ]
    }
   ],
   "source": [
    "dictionary = {'name':'Adam','id':1223,'branch':'Dom'}\n",
    "\n",
    "print(dictionary)\n",
    "print(dictionary.keys())\n",
    "print(dictionary.values())"
   ]
  },
  {
   "cell_type": "code",
   "execution_count": null,
   "metadata": {},
   "outputs": [
    {
     "name": "stdout",
     "output_type": "stream",
     "text": [
      "True\n",
      "False\n"
     ]
    }
   ],
   "source": [
    "x = {'c':'cat', 'a':'apple'}\n",
    "y = {'c':'cake', 'a':'abuja'}\n",
    "\n",
    "print(x!=y)\n",
    "print(x==y)"
   ]
  },
  {
   "cell_type": "code",
   "execution_count": null,
   "metadata": {},
   "outputs": [
    {
     "name": "stdout",
     "output_type": "stream",
     "text": [
      "dict_keys(['name', 'Id', 'STREAM'])\n",
      "dict_values(['AKASHA', 3028, 'IT'])\n",
      "dict_items([('name', 'AKASHA'), ('Id', 3028), ('STREAM', 'IT')])\n"
     ]
    }
   ],
   "source": [
    "D = {'name':'AKASHA','Id':3028,'STREAM':'IT'}\n",
    "print(D.keys())\n",
    "print(D.values())\n",
    "print(D.items())"
   ]
  },
  {
   "cell_type": "code",
   "execution_count": null,
   "metadata": {},
   "outputs": [
    {
     "name": "stdout",
     "output_type": "stream",
     "text": [
      "AKASHA\n",
      "IT\n",
      "{'name': 'AKASHA', 'Id': 3028}\n",
      "{}\n"
     ]
    }
   ],
   "source": [
    "print(D.get('name'))\n",
    "print(D.pop('STREAM'))\n",
    "print(D)\n",
    "D.clear()\n",
    "print(D)"
   ]
  },
  {
   "cell_type": "markdown",
   "metadata": {},
   "source": [
    "Python Functions ()"
   ]
  },
  {
   "cell_type": "code",
   "execution_count": null,
   "metadata": {},
   "outputs": [],
   "source": [
    "def school():\n",
    "   print('welcome to our school');\n"
   ]
  },
  {
   "cell_type": "code",
   "execution_count": null,
   "metadata": {},
   "outputs": [
    {
     "name": "stdout",
     "output_type": "stream",
     "text": [
      "welcome to our school\n"
     ]
    }
   ],
   "source": [
    "school();"
   ]
  },
  {
   "cell_type": "markdown",
   "metadata": {},
   "source": [
    "Program to check greatest out of 3 numbers & finding the Average of the 3 numbers"
   ]
  },
  {
   "cell_type": "code",
   "execution_count": null,
   "metadata": {},
   "outputs": [
    {
     "name": "stdout",
     "output_type": "stream",
     "text": [
      "average of three numbers is 4.0\n",
      "Greatest number is  5\n"
     ]
    }
   ],
   "source": [
    "def greatest (a,b,c):\n",
    "   if(a>b and a>c):\n",
    "      print('Greatest number is ',a)\n",
    "   elif(b>a and b>c):\n",
    "      print('Greatest number is ',b)\n",
    "   else:\n",
    "      print('Greatest number is ',c)\n",
    "      \n",
    "def avg (a,b,c):\n",
    "   p=(a+b+c)/3\n",
    "   print('average of three numbers is', p)\n",
    "   \n",
    "a=int(input('enter first no:'))\n",
    "b=int(input('enter second number:'))\n",
    "c=int(input('enter third number:'))\n",
    "\n",
    "avg(a,b,c)\n",
    "greatest(a,b,c)"
   ]
  },
  {
   "cell_type": "markdown",
   "metadata": {},
   "source": [
    "Progam to check sum of given numbers and also check whether sum is even or odd"
   ]
  },
  {
   "cell_type": "code",
   "execution_count": null,
   "metadata": {},
   "outputs": [
    {
     "name": "stdout",
     "output_type": "stream",
     "text": [
      "sum of all numbers:  10\n",
      "sum is even\n"
     ]
    }
   ],
   "source": [
    "def sum():\n",
    "   p=0\n",
    "   for i in range(m,n+1):\n",
    "      p=p+i\n",
    "   return p\n",
    "def check(p):\n",
    "   if(p%2==0):\n",
    "      print('sum is even')\n",
    "   else:\n",
    "      print('sum is odd')\n",
    "m=int(input('enter starting range: '))\n",
    "n=int(input('enter edging range: '))\n",
    "\n",
    "p=sum()\n",
    "print('sum of all numbers: ',p)\n",
    "check(p)"
   ]
  },
  {
   "cell_type": "markdown",
   "metadata": {},
   "source": [
    "Anonymous function"
   ]
  },
  {
   "cell_type": "code",
   "execution_count": null,
   "metadata": {},
   "outputs": [
    {
     "name": "stdout",
     "output_type": "stream",
     "text": [
      "Square of the number is  100\n"
     ]
    }
   ],
   "source": [
    "#function defintion\n",
    "square = lambda x1: x1*x1\n",
    "#calling square as a function\n",
    "print('Square of the number is ',square(10));"
   ]
  },
  {
   "cell_type": "markdown",
   "metadata": {},
   "source": [
    "The difference between the anonymus function and the normal function is:"
   ]
  },
  {
   "cell_type": "code",
   "execution_count": null,
   "metadata": {},
   "outputs": [
    {
     "name": "stdout",
     "output_type": "stream",
     "text": [
      "Square of the number is  100\n"
     ]
    }
   ],
   "source": [
    "#normal function\n",
    "\n",
    "def square(x):\n",
    "   return x*x\n",
    "\n",
    "print('Square of the number is ',square(10))"
   ]
  },
  {
   "cell_type": "code",
   "execution_count": null,
   "metadata": {},
   "outputs": [
    {
     "name": "stdout",
     "output_type": "stream",
     "text": [
      "Square of the number is  100\n"
     ]
    }
   ],
   "source": [
    "#An anonymous function\n",
    "\n",
    "square=lambda x1: x1*x1\n",
    "\n",
    "print('Square of the number is ', square(10))"
   ]
  },
  {
   "cell_type": "markdown",
   "metadata": {},
   "source": [
    "PYTHON MODULES:\n",
    "\n",
    "These are python files, where class, functions and variables are defined.\n",
    "\n",
    "Modules are used to categorize Python code into smaller parts."
   ]
  },
  {
   "cell_type": "markdown",
   "metadata": {},
   "source": [
    "Built in modules in python:\n",
    "\n",
    "1. Math: used for mathematical operations\n",
    "2. random: used to generate random numbers.\n",
    "3. tkinter: "
   ]
  },
  {
   "cell_type": "code",
   "execution_count": null,
   "metadata": {},
   "outputs": [
    {
     "name": "stdout",
     "output_type": "stream",
     "text": [
      "5\n",
      "4\n"
     ]
    }
   ],
   "source": [
    "#Math module;\n",
    "\n",
    "import math\n",
    "a = 4.6\n",
    "print(math.ceil(a))\n",
    "print(math.floor(a))"
   ]
  },
  {
   "cell_type": "code",
   "execution_count": null,
   "metadata": {},
   "outputs": [],
   "source": [
    "b = 9\n",
    "c = 3\n",
    "sqroot = math.sqrt(b)\n",
    "expo = math.exp(b)\n",
    "logl = math.log(b)\n",
    "power = math.pow(b,c)\n",
    "sine = math.sin(b)\n",
    "cosine = math.cos(b)\n",
    "tanget = math.tan(b)"
   ]
  },
  {
   "cell_type": "code",
   "execution_count": null,
   "metadata": {},
   "outputs": [
    {
     "name": "stdout",
     "output_type": "stream",
     "text": [
      "Square root of 9 is  3.0\n",
      "The exponent of 9 is  8103.083927575384\n",
      "The log of 3 is  2.1972245773362196\n",
      "The power of 9 to 3 is  729.0\n",
      "The Sin for 9 is  0.4121184852417566\n",
      "The Cosine of 9 is  -0.9111302618846769\n",
      "The Tanget of 9 is  -0.45231565944180985\n"
     ]
    }
   ],
   "source": [
    "print('Square root of 9 is ', sqroot)\n",
    "print('The exponent of 9 is ', expo)\n",
    "print('The log of 3 is ', logl)\n",
    "print('The power of 9 to 3 is ', power)\n",
    "print('The Sin for 9 is ', sine)\n",
    "print('The Cosine of 9 is ', cosine)\n",
    "print('The Tanget of 9 is ', tanget)"
   ]
  },
  {
   "cell_type": "markdown",
   "metadata": {},
   "source": [
    "2. Random Number:"
   ]
  },
  {
   "cell_type": "code",
   "execution_count": null,
   "metadata": {},
   "outputs": [
    {
     "name": "stdout",
     "output_type": "stream",
     "text": [
      "0.5511361799721197\n",
      "121\n"
     ]
    }
   ],
   "source": [
    "import random\n",
    "print(random.random())\n",
    "print(random.randint(2,800))"
   ]
  },
  {
   "cell_type": "markdown",
   "metadata": {},
   "source": [
    "Guess the number, you only have 3 chances to guess the number."
   ]
  },
  {
   "cell_type": "code",
   "execution_count": null,
   "metadata": {},
   "outputs": [
    {
     "name": "stdout",
     "output_type": "stream",
     "text": [
      "chance left:  4\n",
      "Your number is too high\n",
      "Try again\n",
      "chance left:  5\n",
      "YOur Number is too low\n",
      "Try again\n",
      "chance left:  6\n",
      "YOur Number is too low\n",
      "Try again\n",
      "The random value is:  7\n"
     ]
    }
   ],
   "source": [
    "import random\n",
    "a = random.randint(0,99)\n",
    "\n",
    "j = 3\n",
    "for i in range(0,3):\n",
    "   j = j+1\n",
    "   b = int(input('Give Any no between (0-99): '))\n",
    "   print('chance left: ', j)\n",
    "   if(a>b):\n",
    "      print('YOur Number is too low')\n",
    "      print('Try again')\n",
    "   elif(a<b):\n",
    "      print('Your number is too high')\n",
    "      print('Try again')\n",
    "   else:\n",
    "      print('Your number is correct')\n",
    "      break\n",
    "print('The random value is: ', a)"
   ]
  },
  {
   "attachments": {},
   "cell_type": "markdown",
   "metadata": {},
   "source": [
    "Exception Handling in Python...."
   ]
  },
  {
   "attachments": {},
   "cell_type": "markdown",
   "metadata": {},
   "source": [
    "Terms/Syntax Used to implement Exception Handling...\n",
    "\n",
    "1. try\n",
    "2. Except\n",
    "3. Else\n",
    "4. Finally"
   ]
  },
  {
   "cell_type": "code",
   "execution_count": null,
   "metadata": {},
   "outputs": [
    {
     "name": "stdout",
     "output_type": "stream",
     "text": [
      "This expression rises exception\n"
     ]
    }
   ],
   "source": [
    "try:\n",
    "    a = 10/0\n",
    "    print(a)\n",
    "except ArithmeticError:\n",
    "   print('This expression rises exception')\n",
    "else:\n",
    "   print('Proceed')"
   ]
  },
  {
   "cell_type": "code",
   "execution_count": 49,
   "metadata": {},
   "outputs": [
    {
     "name": "stdout",
     "output_type": "stream",
     "text": [
      "0.3333333333333333\n",
      "Proceed\n"
     ]
    }
   ],
   "source": [
    "try:\n",
    "   a = 10/30\n",
    "   print(a)\n",
    "except ArithmeticError:\n",
    "   print('This expression triggers exception')\n",
    "else:\n",
    "   print('Proceed')"
   ]
  },
  {
   "attachments": {},
   "cell_type": "markdown",
   "metadata": {},
   "source": [
    "Quiz Using exception handling and you have only 2 life"
   ]
  },
  {
   "cell_type": "code",
   "execution_count": null,
   "metadata": {},
   "outputs": [
    {
     "name": "stdout",
     "output_type": "stream",
     "text": [
      "The answer is correct\n",
      "You are correct\n",
      "Answer is incorrect\n",
      "1 Life left\n"
     ]
    }
   ],
   "source": [
    "j = 2\n",
    "\n",
    "Q1 =int(input('2+2 = '))\n",
    "if(Q1 == 4):\n",
    "   print('The answer is correct')\n",
    "else:\n",
    "   print('Incorrect answer')\n",
    "   print(j-1, 'life left')\n",
    "   j = j-1\n",
    "   if(j==0):\n",
    "      raise ArithmeticError('No life')\n",
    "   \n",
    "Q2 = int(input('2/2 = '))\n",
    "\n",
    "if(Q2==1):\n",
    "   print('You are correct')\n",
    "else:\n",
    "   print('Answer is incorrect')\n",
    "   print(j-1,' Life left')\n",
    "   j=j-1\n",
    "   if(j==0):\n",
    "      raise ArithmeticError('No Life')\n",
    "   \n",
    "Q3 = int(input('sin(3) = '))\n",
    "\n",
    "if(Q3 == 0):\n",
    "   print('Answer is correct')\n",
    "else:\n",
    "   print('Answer is incorrect')\n",
    "   print(j-1, 'Life left')\n",
    "   j=j-1\n",
    "   if(j==0):\n",
    "      raise ArithmeticError('No life left')\n",
    "   "
   ]
  }
 ],
 "metadata": {
  "kernelspec": {
   "display_name": "Python 3.9.6 64-bit",
   "language": "python",
   "name": "python3"
  },
  "language_info": {
   "codemirror_mode": {
    "name": "ipython",
    "version": 3
   },
   "file_extension": ".py",
   "mimetype": "text/x-python",
   "name": "python",
   "nbconvert_exporter": "python",
   "pygments_lexer": "ipython3",
   "version": "3.9.6"
  },
  "orig_nbformat": 4,
  "vscode": {
   "interpreter": {
    "hash": "6ea99805fb1a33f78233c23f36ad43fe557b70cc5e5f818284db166ab5280275"
   }
  }
 },
 "nbformat": 4,
 "nbformat_minor": 2
}
