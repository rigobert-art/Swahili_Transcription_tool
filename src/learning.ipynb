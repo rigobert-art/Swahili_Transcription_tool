{
 "cells": [
  {
   "attachments": {},
   "cell_type": "markdown",
   "metadata": {},
   "source": [
    "lists comprehension"
   ]
  },
  {
   "cell_type": "code",
   "execution_count": 1,
   "metadata": {},
   "outputs": [
    {
     "name": "stdout",
     "output_type": "stream",
     "text": [
      "[1, 2, 3, 4, 5, 6, 7, 8, 9, 10]\n"
     ]
    }
   ],
   "source": [
    "# list number one in an array\n",
    "numbers = [1,2,3,4,5,6,7,8,9,10]\n",
    "# listing the numbers in the array 'numbers'\n",
    "newNumber = [number for number in numbers]\n",
    "print(newNumber)"
   ]
  },
  {
   "cell_type": "code",
   "execution_count": 2,
   "metadata": {},
   "outputs": [
    {
     "name": "stdout",
     "output_type": "stream",
     "text": [
      "[1, 2, 3, 4, 5]\n"
     ]
    }
   ],
   "source": [
    "newNumbers = [number for number in numbers if number <= 5]\n",
    "print(newNumbers)"
   ]
  },
  {
   "cell_type": "code",
   "execution_count": 3,
   "metadata": {},
   "outputs": [
    {
     "name": "stdout",
     "output_type": "stream",
     "text": [
      "[1, 4, 9, 16, 25, 36, 49, 64, 81, 100]\n"
     ]
    }
   ],
   "source": [
    "squareNumbers = [number**2 for number in numbers]\n",
    "print(squareNumbers)"
   ]
  },
  {
   "attachments": {},
   "cell_type": "markdown",
   "metadata": {},
   "source": [
    "REGULAR EXPRESSIONS"
   ]
  },
  {
   "cell_type": "code",
   "execution_count": 4,
   "metadata": {},
   "outputs": [
    {
     "name": "stdout",
     "output_type": "stream",
     "text": [
      "<re.Match object; span=(0, 1), match='I'>\n"
     ]
    }
   ],
   "source": [
    "import re\n",
    "\n",
    "sentence = \"I was born in Brazil in the year 1998\"\n",
    "doesmatch = re.match(r\"[a-zA-Z]+\",sentence)\n",
    "print(doesmatch)"
   ]
  },
  {
   "cell_type": "code",
   "execution_count": 5,
   "metadata": {},
   "outputs": [
    {
     "name": "stdout",
     "output_type": "stream",
     "text": [
      "None MAtch\n"
     ]
    }
   ],
   "source": [
    "sentence = \"1998 was the year i was born\"\n",
    "does = re.match(r\"[a-zA-Z]+\",sentence)\n",
    "print(does, \"MAtch\")"
   ]
  },
  {
   "cell_type": "code",
   "execution_count": 6,
   "metadata": {},
   "outputs": [
    {
     "name": "stdout",
     "output_type": "stream",
     "text": [
      "I love Justice League\n",
      "0 0000 00000000\n"
     ]
    }
   ],
   "source": [
    "ansente = \"I love avengers\"\n",
    "substi_1 = re.sub(r\"avengers\",\"Justice League\", ansente)\n",
    "print(substi_1)\n",
    "\n",
    "substi_2 = re.sub(r\"[a-z]\",\"0\",ansente,flags=re.I)\n",
    "print(substi_2)"
   ]
  },
  {
   "cell_type": "code",
   "execution_count": 7,
   "metadata": {},
   "outputs": [
    {
     "name": "stdout",
     "output_type": "stream",
     "text": [
      "Welcome to the year \n",
      "Just  arrived  jackies place fun\n"
     ]
    }
   ],
   "source": [
    "sentence = \"Welcome to the year 2022\"\n",
    "sentence_2 = \"Just @#$%^&^ arrived @ jackie's place. #fun\"\n",
    "sentence_3 = \"I        cant wait      to graduate       university\"\n",
    "\n",
    "sentence_mod = re.sub(r\"\\d\",\"\",sentence)\n",
    "sentence_2_mod = re.sub(r\"[@%#~+-\\.\\'$^&]\",\"\",sentence_2)\n",
    "\n",
    "print(sentence_mod)\n",
    "print(sentence_2_mod)"
   ]
  },
  {
   "cell_type": "code",
   "execution_count": 8,
   "metadata": {},
   "outputs": [
    {
     "name": "stdout",
     "output_type": "stream",
     "text": [
      "Just         arrived   jackie s place   fun\n",
      "I cant wait to graduate university\n",
      "Just         arrived   jackie place   fun\n"
     ]
    }
   ],
   "source": [
    "sentence_2_mod = re.sub(r\"\\W\",\" \",sentence_2)\n",
    "print(sentence_2_mod)\n",
    "\n",
    "sentence_3_mod = re.sub(r\"\\s+\",\" \",sentence_3)\n",
    "print(sentence_3_mod)\n",
    "\n",
    "sentence_2_mod_1 = re.sub(r\"\\s+[a-zA-Z]\\s+\",\" \",sentence_2_mod)\n",
    "print(sentence_2_mod_1)"
   ]
  },
  {
   "cell_type": "code",
   "execution_count": 9,
   "metadata": {},
   "outputs": [
    {
     "name": "stdout",
     "output_type": "stream",
     "text": [
      "This is my name\n",
      "I am years old \n",
      "Bring me the money bicthes\n",
      "Where Messi huh \n",
      "Hanza ra bobo \n",
      "Stop the traffic\n"
     ]
    }
   ],
   "source": [
    "# storing data in array, string\n",
    "X = [\"This is my name\",\n",
    "     \"I am 23 years old$$\",\n",
    "     \"Bring me the      money bicthes\",\n",
    "     \"Where's Messi, huh!!\",\n",
    "     \"Hanza ra bobo??\",\n",
    "     \"Stop       the       traffic\"]\n",
    "\n",
    "for i in range(len(X)):\n",
    "   X[i] = re.sub(r\"\\W\", \" \",X[i])\n",
    "   X[i] = re.sub(r\"\\d\",\" \",X[i])\n",
    "   X[i] = re.sub(r\"\\s+[a-z]\\s+\",\" \",X[i],flags=re.I)\n",
    "   X[i] = re.sub(r\"\\s+\",\" \",X[i])\n",
    "   X[i] = re.sub(r\"^\\s\",\"\",X[i])\n",
    "   print(X[i])"
   ]
  },
  {
   "attachments": {},
   "cell_type": "markdown",
   "metadata": {},
   "source": [
    "Numpy Library\n",
    "\n",
    "Importation and use of Numpy"
   ]
  },
  {
   "cell_type": "code",
   "execution_count": 10,
   "metadata": {},
   "outputs": [
    {
     "name": "stdout",
     "output_type": "stream",
     "text": [
      "2.33 µs ± 279 ns per loop (mean ± std. dev. of 7 runs, 100,000 loops each)\n"
     ]
    }
   ],
   "source": [
    "import numpy as np\n",
    "\n",
    "np.arange(12)\n",
    "# np.arange(1,10)\n",
    "# np.arange(1,10,2)\n",
    "np.arange(1,10,dtype='float64')\n",
    "\n",
    "# examining the\n",
    "arr = np.arange(1,10)\n",
    "arr.ndim\n",
    "arr.shape\n",
    "arr.size\n",
    "arr.dtype\n",
    "arr.itemsize\n",
    "\n",
    "# memory usage\n",
    "arr.itemsize * arr.size\n",
    "\n",
    "# why use Numpy? compare the time to do the same peration using\n",
    "# Numpy and normal python lists\n",
    "\n",
    "\n",
    "# %timeit list_1 = range(1,1000)\n",
    "%timeit list_2 = np.arange(1,1000)"
   ]
  },
  {
   "cell_type": "code",
   "execution_count": 11,
   "metadata": {},
   "outputs": [
    {
     "name": "stdout",
     "output_type": "stream",
     "text": [
      "2.59 µs ± 485 ns per loop (mean ± std. dev. of 7 runs, 100,000 loops each)\n"
     ]
    }
   ],
   "source": [
    "np.arange(12)\n",
    "# np.arange(1,10)\n",
    "# np.arange(1,10,2)\n",
    "np.arange(1,10,dtype='float64')\n",
    "\n",
    "# examining the\n",
    "arr = np.arange(1,10)\n",
    "arr.ndim\n",
    "arr.shape\n",
    "arr.size\n",
    "arr.dtype\n",
    "arr.itemsize\n",
    "\n",
    "# memory usage\n",
    "arr.itemsize * arr.size\n",
    "\n",
    "# why use Numpy? compare the time to do the same peration using\n",
    "# Numpy and normal python lists\n",
    "\n",
    "\n",
    "# %timeit list_1 = range(1,1000)\n",
    "%timeit list_2 = np.arange(1,1000)"
   ]
  },
  {
   "cell_type": "code",
   "execution_count": 12,
   "metadata": {},
   "outputs": [
    {
     "name": "stdout",
     "output_type": "stream",
     "text": [
      "[1. 2. 3. 4.]\n",
      "[1.         1.42857143 1.85714286 2.28571429 2.71428571 3.14285714\n",
      " 3.57142857 4.        ]\n",
      "[1.    1.375 1.75  2.125 2.5   2.875 3.25  3.625]\n"
     ]
    }
   ],
   "source": [
    "# as array function can convert any python list into a numpy array\n",
    "\n",
    "list_2 = [[1,2,3],[4,5,6]]\n",
    "thisarr = np.asarray([1,2,4,5,6,7])\n",
    "\n",
    "arr_2d =np.asarray(list_2)\n",
    "# print(arr_2d)\n",
    "# print(thisarr)\n",
    "\n",
    "# lin space generates any number within a given range\n",
    "\n",
    "gen_1 = np.linspace(1,4,num=4)\n",
    "gen_2 = np.linspace(1,4,num=8)\n",
    "gen_3 = np.linspace(1,4,num=8,endpoint=False)\n",
    "\n",
    "print(gen_1)\n",
    "print(gen_2)\n",
    "print(gen_3)"
   ]
  },
  {
   "cell_type": "code",
   "execution_count": 13,
   "metadata": {},
   "outputs": [
    {
     "name": "stdout",
     "output_type": "stream",
     "text": [
      "ALL OF THE RARR MATRIX BELOW\n",
      "[[0.79392434 0.55884198 0.05701238 0.17726549]\n",
      " [0.4339813  0.55973212 0.21971615 0.97053369]\n",
      " [0.06056256 0.88169111 0.76722197 0.64843298]]\n",
      " \n",
      "BELOW SHOWING THE SHAPE OF THE ARRAY with MIN on AXIS\n"
     ]
    },
    {
     "data": {
      "text/plain": [
       "array([0.05701238, 0.21971615, 0.06056256])"
      ]
     },
     "execution_count": 13,
     "metadata": {},
     "output_type": "execute_result"
    }
   ],
   "source": [
    "# the random function can generate\n",
    "# a matrix full of random values between 0-1......\n",
    "\n",
    "rarr = np.random.random((3,4))\n",
    "print(\"ALL OF THE RARR MATRIX BELOW\")\n",
    "print(rarr)\n",
    "print(\" \")\n",
    "# print(\"BELOW IS AN ARRANGEMENT OF THE MATRIX with MAX ON AXIS\")\n",
    "np.max(rarr, axis=0)\n",
    "np.max(rarr, axis=1)\n",
    "\n",
    "print(\"BELOW SHOWING THE SHAPE OF THE ARRAY with MIN on AXIS\")\n",
    "np.min(rarr, axis=0)\n",
    "np.min(rarr, axis=1)"
   ]
  },
  {
   "cell_type": "code",
   "execution_count": 14,
   "metadata": {},
   "outputs": [
    {
     "name": "stdout",
     "output_type": "stream",
     "text": [
      "All rows and columns [[0.53481201 0.89067037 0.27660934 0.8612641  0.03167509]\n",
      " [0.64539087 0.3489505  0.55913105 0.24308879 0.82048764]\n",
      " [0.69098015 0.07696853 0.57984771 0.36778759 0.58738269]\n",
      " [0.77567197 0.20605463 0.5064494  0.60507306 0.50237659]]\n",
      " \n",
      "Second row and third row with all columns [[0.64539087 0.3489505  0.55913105 0.24308879 0.82048764]\n",
      " [0.69098015 0.07696853 0.57984771 0.36778759 0.58738269]]\n"
     ]
    }
   ],
   "source": [
    "# Reshaping\n",
    "# np.reshape(a, newshape, order='C')\n",
    "\n",
    "# new_rarr_1 = np.reshape(rarr, (12,))\n",
    "# print(new_rarr_1)\n",
    "# print(\"\")\n",
    "# new_rarr_2 = np.reshape(rarr, (12,1))\n",
    "# print(new_rarr_2)\n",
    "\n",
    "# slicing\n",
    "rarr = np.random.random((4,5))\n",
    "all_row_cols = rarr[:,:]\n",
    "print(\"All rows and columns\", all_row_cols)\n",
    "print(\" \")\n",
    "sec_thrd = rarr[1:3,:]\n",
    "print(\"Second row and third row with all columns\", sec_thrd)\n"
   ]
  },
  {
   "attachments": {},
   "cell_type": "markdown",
   "metadata": {},
   "source": [
    "PANDAS\n"
   ]
  },
  {
   "cell_type": "code",
   "execution_count": 15,
   "metadata": {},
   "outputs": [
    {
     "data": {
      "text/plain": [
       "0      1\n",
       "1      4\n",
       "2     27\n",
       "3     16\n",
       "4    125\n",
       "5     36\n",
       "dtype: int64"
      ]
     },
     "execution_count": 15,
     "metadata": {},
     "output_type": "execute_result"
    }
   ],
   "source": [
    "# importing pandas library from pandas and loading it\n",
    "import pandas as pd\n",
    "\n",
    "# Series \n",
    "# pd.series(self, data=None, index=None, dtype=None, name=None, copy=False)\n",
    "\n",
    "x = pd.Series([1,2,3,4,5,6])\n",
    "plus = x + 100\n",
    "# print(plus)\n",
    "\n",
    "squre = x ** 2\n",
    "# print(squre)\n",
    "\n",
    "# returning values under given condition\n",
    "larger_than_2 = x > 2\n",
    "larger_than_2.any()\n",
    "larger_than_2.all()\n",
    "\n",
    "def f(x):\n",
    "   if x % 2 == 0:\n",
    "      return x ** 2\n",
    "   else:\n",
    "      return x ** 3\n",
    "\n",
    "x.apply(f)"
   ]
  },
  {
   "cell_type": "code",
   "execution_count": 16,
   "metadata": {},
   "outputs": [
    {
     "name": "stdout",
     "output_type": "stream",
     "text": [
      "['na', 'lakini', 'ingawa', 'ingawaje', 'kwa', 'sababu', 'hadi', 'hata', 'kama', 'ambapo', 'ambamo', 'ambako', 'ambacho', 'ambao', 'ambaye', 'ilhali', 'ya', 'yake', 'yao', 'yangu', 'yetu', 'yenu', 'vya', 'vyao', 'vyake', 'vyangu', 'vyenu', 'vyetu', 'yako', 'hizo', 'mimi', 'sisi', 'wewe', 'nyinyi', 'yeye', 'wao', 'nao', 'nasi', 'nanyi', 'ni', 'alikuwa', 'atakuwa', 'hii', 'hizi', 'zile', 'ile', 'hivi', 'vile', 'za', 'zake', 'zao', 'zenu', 'kwenye', 'katika', 'kwao', 'kwenu', 'kwetu', 'dhidi', 'kati', 'miongoni', 'katikati', 'wakati', 'kabla', 'baada', 'baadaye', 'nje', 'tena', 'mbali', 'halafu', 'hapa', 'pale', 'mara', 'yoyote', 'wowote', 'chochote', 'vyovyote', 'yeyote', 'lolote', 'mwenye', 'mwenyewe', 'lenyewe', 'lenye', 'wote', 'lote', 'vyote', 'nyote', 'kila', 'zaidi', 'hapana', 'ndiyo', 'au', 'ama', 'sio', 'siye', 'tu', 'budi', 'nyingi', 'nyingine', 'wengine', 'mwingine', 'zingine', 'lingine', 'kingine', 'chote', 'sasa', 'basi', 'bila', 'cha', 'chini', 'hapo', 'huku', 'kule', 'humu', 'hivyo', 'hivyohivyo', 'vivyo', 'palepale', 'fauka', 'hiyo', 'hiyohiyo', 'zilezile', 'hao', 'haohao', 'hukuhuku', 'humuhumu', 'huko', 'hukohuko', 'huo', 'huohuo', 'hili', 'hilihili', 'ilikuwa', 'juu', 'karibu', 'kima', 'kisha', 'kutoka', 'kwenda', 'kubwa', 'ndogo', 'kwamba', 'kuwa', 'la', 'lao', 'lo', 'mdogo', 'mkubwa', 'ng’o', 'pia', 'aidha', 'vilevile', 'kadhalika', 'halikadhalika', 'sana', 'pamoja', 'tafadhali', 'wa', 'wake', 'yule', 'wale', 'zangu', 'afanaleki', 'salale', 'oyee', 'yupi', 'ipi', 'lipi', 'ngapi', 'si', 'angali', 'wangali', 'loo', 'ohoo', 'barabara', 'ewaa', 'walahi', 'masalale', 'duu', 'toba', 'mh', 'kumbe', 'ala', 'ebo', 'haraka', 'pole', 'polepole', 'harakaharaka', 'itakuwa', 'mtakuwa', 'tutakuwa', 'labda', 'yumkini', 'haiyumkini', 'yapata', 'takribani', 'hususani', 'yawezekana', 'nani', 'ndani', 'baadhi', 'kuliko', 'mwa', 'hasha', 'moja', 'pili', 'kwanza', 'ili', 'je', 'jinsi', 'ila', 'nini', 'hasa', 'huu', 'zako', 'alisema', 'walikuwa', 'naye', 'watu', 'sauti', 'akasema', 'baadae', 'muda', 'mrefu', 'akatokea', 'akaja', 'wangu', 'kikubwa', 'kiasi', 'mmoja', 'kidogo', 'mpaka']\n"
     ]
    }
   ],
   "source": [
    "import nltk\n",
    "import heapq\n",
    "from NoelNLP import stopList\n",
    "stop_words = stopList()\n",
    "\n",
    "print(stop_words)\n",
    "# nltk.download(\"stopwords\")\n",
    "# from nltk.corpus import stopwords\n",
    "\n"
   ]
  },
  {
   "cell_type": "code",
   "execution_count": 17,
   "metadata": {},
   "outputs": [],
   "source": [
    "paragraph = \"\"\"Baada ya uhuru mwanzoni mwa miaka ya 1960, \n",
    "               viongozi wa kisiasa nchini Kenya na Tanzania walitafuta\n",
    "               kurejesha mizizi ya Kiafrika ya utamaduni na lugha ya Waswahili. \n",
    "               Kiswahili kilitumika hasa kama lugha ya taifa katika mataifa hayo mawili. \n",
    "               Rais Julius Nyerere wa Tanzania alienda mbali zaidi na kuamuru Kiswahili\n",
    "               kitumike kama chombo cha kufundishia katika shule za umma.\n",
    "               Kiswahili pia kilipitishwa na serikali za nchi hizi mbili ili\n",
    "               kukuza utangamano wa kitaifa kutokana na tofauti za kikabila \n",
    "               za mataifa ya taifa jipya. Kwa hiyo,\n",
    "               Kiswahili kimekuwa lugha ya pili kwa watu wengi wanaoishi Kenya, \n",
    "               Tanzania na Uganda. Mashariki mwa Jamhuri ya Kidemokrasia ya Kongo, \n",
    "               Kiswahili kimehusishwa kwa muda mrefu na Wangwana, \n",
    "               ambao wanahusishwa na wafanyabiashara wa Kiarabu-Waswahili waliojitosa \n",
    "               katika eneo hili kwa ajili ya watumwa na pembe za ndovu.\"\"\""
   ]
  },
  {
   "cell_type": "code",
   "execution_count": 18,
   "metadata": {},
   "outputs": [],
   "source": [
    "ds = nltk.sent_tokenize(paragraph)\n",
    "\n",
    "for i in range(len(ds)):\n",
    "   ds[i] = ds[i].lower()\n",
    "   ds[i] = re.sub(r'\\W',' ',ds[i])\n",
    "   ds[i] = re.sub(r'\\s+',' ',ds[i])\n"
   ]
  },
  {
   "cell_type": "code",
   "execution_count": 19,
   "metadata": {},
   "outputs": [],
   "source": [
    "# creating the histogram\n",
    "word2count = {}\n",
    "for data in ds:\n",
    "   words = nltk.word_tokenize(data)\n",
    "   for word in words:\n",
    "      if word not in word2count.keys():\n",
    "         word2count[word] = 1\n",
    "      else:\n",
    "         word2count[word] += 1\n",
    "      # print(word2count)\n",
    "         "
   ]
  },
  {
   "cell_type": "code",
   "execution_count": 20,
   "metadata": {},
   "outputs": [],
   "source": [
    "freq_words = heapq.nlargest(100,word2count,key=word2count.get)\n",
    "# display(freq_words)"
   ]
  },
  {
   "cell_type": "code",
   "execution_count": 21,
   "metadata": {},
   "outputs": [
    {
     "name": "stdout",
     "output_type": "stream",
     "text": [
      "[[1, 1, 0, 0, 1, 0, 1, 1, 0, 1, 1, 1, 0, 0, 0, 1, 1, 1, 1, 1, 1, 1, 1, 1, 1, 1, 1, 1, 0, 0, 0, 0, 0, 0, 0, 0, 0, 0, 0, 0, 0, 0, 0, 0, 0, 0, 0, 0, 0, 0, 0, 0, 0, 0, 0, 0, 0, 0, 0, 0, 0, 0, 0, 0, 0, 0, 0, 0, 0, 0, 0, 0, 0, 0, 0, 0, 0, 0, 0, 0, 0, 0, 0, 0, 0]]\n",
      "[[1, 1, 0, 0, 1, 0, 1, 1, 0, 1, 1, 1, 0, 0, 0, 1, 1, 1, 1, 1, 1, 1, 1, 1, 1, 1, 1, 1, 0, 0, 0, 0, 0, 0, 0, 0, 0, 0, 0, 0, 0, 0, 0, 0, 0, 0, 0, 0, 0, 0, 0, 0, 0, 0, 0, 0, 0, 0, 0, 0, 0, 0, 0, 0, 0, 0, 0, 0, 0, 0, 0, 0, 0, 0, 0, 0, 0, 0, 0, 0, 0, 0, 0, 0, 0], [1, 0, 1, 0, 0, 0, 0, 1, 1, 0, 0, 0, 1, 1, 1, 0, 0, 0, 0, 0, 0, 0, 0, 0, 0, 0, 0, 0, 1, 1, 1, 1, 0, 0, 0, 0, 0, 0, 0, 0, 0, 0, 0, 0, 0, 0, 0, 0, 0, 0, 0, 0, 0, 0, 0, 0, 0, 0, 0, 0, 0, 0, 0, 0, 0, 0, 0, 0, 0, 0, 0, 0, 0, 0, 0, 0, 0, 0, 0, 0, 0, 0, 0, 0, 0]]\n",
      "[[1, 1, 0, 0, 1, 0, 1, 1, 0, 1, 1, 1, 0, 0, 0, 1, 1, 1, 1, 1, 1, 1, 1, 1, 1, 1, 1, 1, 0, 0, 0, 0, 0, 0, 0, 0, 0, 0, 0, 0, 0, 0, 0, 0, 0, 0, 0, 0, 0, 0, 0, 0, 0, 0, 0, 0, 0, 0, 0, 0, 0, 0, 0, 0, 0, 0, 0, 0, 0, 0, 0, 0, 0, 0, 0, 0, 0, 0, 0, 0, 0, 0, 0, 0, 0], [1, 0, 1, 0, 0, 0, 0, 1, 1, 0, 0, 0, 1, 1, 1, 0, 0, 0, 0, 0, 0, 0, 0, 0, 0, 0, 0, 0, 1, 1, 1, 1, 0, 0, 0, 0, 0, 0, 0, 0, 0, 0, 0, 0, 0, 0, 0, 0, 0, 0, 0, 0, 0, 0, 0, 0, 0, 0, 0, 0, 0, 0, 0, 0, 0, 0, 0, 0, 0, 0, 0, 0, 0, 0, 0, 0, 0, 0, 0, 0, 0, 0, 0, 0, 0], [0, 1, 1, 1, 1, 0, 1, 0, 1, 0, 0, 0, 1, 0, 0, 0, 0, 0, 0, 0, 0, 0, 0, 0, 0, 0, 0, 0, 0, 0, 0, 0, 1, 1, 1, 1, 1, 1, 1, 1, 1, 1, 1, 1, 1, 0, 0, 0, 0, 0, 0, 0, 0, 0, 0, 0, 0, 0, 0, 0, 0, 0, 0, 0, 0, 0, 0, 0, 0, 0, 0, 0, 0, 0, 0, 0, 0, 0, 0, 0, 0, 0, 0, 0, 0]]\n",
      "[[1, 1, 0, 0, 1, 0, 1, 1, 0, 1, 1, 1, 0, 0, 0, 1, 1, 1, 1, 1, 1, 1, 1, 1, 1, 1, 1, 1, 0, 0, 0, 0, 0, 0, 0, 0, 0, 0, 0, 0, 0, 0, 0, 0, 0, 0, 0, 0, 0, 0, 0, 0, 0, 0, 0, 0, 0, 0, 0, 0, 0, 0, 0, 0, 0, 0, 0, 0, 0, 0, 0, 0, 0, 0, 0, 0, 0, 0, 0, 0, 0, 0, 0, 0, 0], [1, 0, 1, 0, 0, 0, 0, 1, 1, 0, 0, 0, 1, 1, 1, 0, 0, 0, 0, 0, 0, 0, 0, 0, 0, 0, 0, 0, 1, 1, 1, 1, 0, 0, 0, 0, 0, 0, 0, 0, 0, 0, 0, 0, 0, 0, 0, 0, 0, 0, 0, 0, 0, 0, 0, 0, 0, 0, 0, 0, 0, 0, 0, 0, 0, 0, 0, 0, 0, 0, 0, 0, 0, 0, 0, 0, 0, 0, 0, 0, 0, 0, 0, 0, 0], [0, 1, 1, 1, 1, 0, 1, 0, 1, 0, 0, 0, 1, 0, 0, 0, 0, 0, 0, 0, 0, 0, 0, 0, 0, 0, 0, 0, 0, 0, 0, 0, 1, 1, 1, 1, 1, 1, 1, 1, 1, 1, 1, 1, 1, 0, 0, 0, 0, 0, 0, 0, 0, 0, 0, 0, 0, 0, 0, 0, 0, 0, 0, 0, 0, 0, 0, 0, 0, 0, 0, 0, 0, 0, 0, 0, 0, 0, 0, 0, 0, 0, 0, 0, 0], [1, 1, 1, 1, 1, 0, 0, 0, 0, 0, 0, 0, 0, 1, 1, 0, 0, 0, 0, 0, 0, 0, 0, 0, 0, 0, 0, 0, 0, 0, 0, 0, 0, 0, 0, 0, 0, 0, 0, 0, 0, 0, 0, 0, 0, 1, 1, 1, 1, 1, 1, 1, 1, 1, 1, 1, 1, 1, 1, 0, 0, 0, 0, 0, 0, 0, 0, 0, 0, 0, 0, 0, 0, 0, 0, 0, 0, 0, 0, 0, 0, 0, 0, 0, 0]]\n",
      "[[1, 1, 0, 0, 1, 0, 1, 1, 0, 1, 1, 1, 0, 0, 0, 1, 1, 1, 1, 1, 1, 1, 1, 1, 1, 1, 1, 1, 0, 0, 0, 0, 0, 0, 0, 0, 0, 0, 0, 0, 0, 0, 0, 0, 0, 0, 0, 0, 0, 0, 0, 0, 0, 0, 0, 0, 0, 0, 0, 0, 0, 0, 0, 0, 0, 0, 0, 0, 0, 0, 0, 0, 0, 0, 0, 0, 0, 0, 0, 0, 0, 0, 0, 0, 0], [1, 0, 1, 0, 0, 0, 0, 1, 1, 0, 0, 0, 1, 1, 1, 0, 0, 0, 0, 0, 0, 0, 0, 0, 0, 0, 0, 0, 1, 1, 1, 1, 0, 0, 0, 0, 0, 0, 0, 0, 0, 0, 0, 0, 0, 0, 0, 0, 0, 0, 0, 0, 0, 0, 0, 0, 0, 0, 0, 0, 0, 0, 0, 0, 0, 0, 0, 0, 0, 0, 0, 0, 0, 0, 0, 0, 0, 0, 0, 0, 0, 0, 0, 0, 0], [0, 1, 1, 1, 1, 0, 1, 0, 1, 0, 0, 0, 1, 0, 0, 0, 0, 0, 0, 0, 0, 0, 0, 0, 0, 0, 0, 0, 0, 0, 0, 0, 1, 1, 1, 1, 1, 1, 1, 1, 1, 1, 1, 1, 1, 0, 0, 0, 0, 0, 0, 0, 0, 0, 0, 0, 0, 0, 0, 0, 0, 0, 0, 0, 0, 0, 0, 0, 0, 0, 0, 0, 0, 0, 0, 0, 0, 0, 0, 0, 0, 0, 0, 0, 0], [1, 1, 1, 1, 1, 0, 0, 0, 0, 0, 0, 0, 0, 1, 1, 0, 0, 0, 0, 0, 0, 0, 0, 0, 0, 0, 0, 0, 0, 0, 0, 0, 0, 0, 0, 0, 0, 0, 0, 0, 0, 0, 0, 0, 0, 1, 1, 1, 1, 1, 1, 1, 1, 1, 1, 1, 1, 1, 1, 0, 0, 0, 0, 0, 0, 0, 0, 0, 0, 0, 0, 0, 0, 0, 0, 0, 0, 0, 0, 0, 0, 0, 0, 0, 0], [1, 1, 1, 0, 0, 1, 1, 1, 0, 0, 1, 0, 0, 0, 0, 0, 0, 0, 0, 0, 0, 0, 0, 0, 0, 0, 0, 0, 0, 0, 0, 0, 0, 0, 0, 0, 0, 0, 0, 0, 0, 0, 0, 0, 0, 0, 0, 0, 0, 0, 0, 0, 0, 0, 0, 0, 0, 0, 0, 1, 1, 1, 1, 1, 1, 1, 0, 0, 0, 0, 0, 0, 0, 0, 0, 0, 0, 0, 0, 0, 0, 0, 0, 0, 0]]\n",
      "[[1, 1, 0, 0, 1, 0, 1, 1, 0, 1, 1, 1, 0, 0, 0, 1, 1, 1, 1, 1, 1, 1, 1, 1, 1, 1, 1, 1, 0, 0, 0, 0, 0, 0, 0, 0, 0, 0, 0, 0, 0, 0, 0, 0, 0, 0, 0, 0, 0, 0, 0, 0, 0, 0, 0, 0, 0, 0, 0, 0, 0, 0, 0, 0, 0, 0, 0, 0, 0, 0, 0, 0, 0, 0, 0, 0, 0, 0, 0, 0, 0, 0, 0, 0, 0], [1, 0, 1, 0, 0, 0, 0, 1, 1, 0, 0, 0, 1, 1, 1, 0, 0, 0, 0, 0, 0, 0, 0, 0, 0, 0, 0, 0, 1, 1, 1, 1, 0, 0, 0, 0, 0, 0, 0, 0, 0, 0, 0, 0, 0, 0, 0, 0, 0, 0, 0, 0, 0, 0, 0, 0, 0, 0, 0, 0, 0, 0, 0, 0, 0, 0, 0, 0, 0, 0, 0, 0, 0, 0, 0, 0, 0, 0, 0, 0, 0, 0, 0, 0, 0], [0, 1, 1, 1, 1, 0, 1, 0, 1, 0, 0, 0, 1, 0, 0, 0, 0, 0, 0, 0, 0, 0, 0, 0, 0, 0, 0, 0, 0, 0, 0, 0, 1, 1, 1, 1, 1, 1, 1, 1, 1, 1, 1, 1, 1, 0, 0, 0, 0, 0, 0, 0, 0, 0, 0, 0, 0, 0, 0, 0, 0, 0, 0, 0, 0, 0, 0, 0, 0, 0, 0, 0, 0, 0, 0, 0, 0, 0, 0, 0, 0, 0, 0, 0, 0], [1, 1, 1, 1, 1, 0, 0, 0, 0, 0, 0, 0, 0, 1, 1, 0, 0, 0, 0, 0, 0, 0, 0, 0, 0, 0, 0, 0, 0, 0, 0, 0, 0, 0, 0, 0, 0, 0, 0, 0, 0, 0, 0, 0, 0, 1, 1, 1, 1, 1, 1, 1, 1, 1, 1, 1, 1, 1, 1, 0, 0, 0, 0, 0, 0, 0, 0, 0, 0, 0, 0, 0, 0, 0, 0, 0, 0, 0, 0, 0, 0, 0, 0, 0, 0], [1, 1, 1, 0, 0, 1, 1, 1, 0, 0, 1, 0, 0, 0, 0, 0, 0, 0, 0, 0, 0, 0, 0, 0, 0, 0, 0, 0, 0, 0, 0, 0, 0, 0, 0, 0, 0, 0, 0, 0, 0, 0, 0, 0, 0, 0, 0, 0, 0, 0, 0, 0, 0, 0, 0, 0, 0, 0, 0, 1, 1, 1, 1, 1, 1, 1, 0, 0, 0, 0, 0, 0, 0, 0, 0, 0, 0, 0, 0, 0, 0, 0, 0, 0, 0], [1, 1, 1, 1, 1, 1, 0, 0, 1, 1, 0, 1, 0, 0, 0, 0, 0, 0, 0, 0, 0, 0, 0, 0, 0, 0, 0, 0, 0, 0, 0, 0, 0, 0, 0, 0, 0, 0, 0, 0, 0, 0, 0, 0, 0, 0, 0, 0, 0, 0, 0, 0, 0, 0, 0, 0, 0, 0, 0, 0, 0, 0, 0, 0, 0, 0, 1, 1, 1, 1, 1, 1, 1, 1, 1, 1, 1, 1, 1, 1, 1, 1, 1, 1, 1]]\n"
     ]
    }
   ],
   "source": [
    "x = []\n",
    "for data in ds:\n",
    "   vector = []\n",
    "   for word in freq_words:\n",
    "      if word in nltk.word_tokenize(data):\n",
    "         vector.append(1)\n",
    "      else:\n",
    "         vector.append(0)\n",
    "   x.append(vector)\n",
    "   print(x)"
   ]
  },
  {
   "cell_type": "code",
   "execution_count": 22,
   "metadata": {},
   "outputs": [
    {
     "name": "stdout",
     "output_type": "stream",
     "text": [
      "[[1 1 0 0 1 0 1 1 0 1 1 1 0 0 0 1 1 1 1 1 1 1 1 1 1 1 1 1 0 0 0 0 0 0 0 0\n",
      "  0 0 0 0 0 0 0 0 0 0 0 0 0 0 0 0 0 0 0 0 0 0 0 0 0 0 0 0 0 0 0 0 0 0 0 0\n",
      "  0 0 0 0 0 0 0 0 0 0 0 0 0]\n",
      " [1 0 1 0 0 0 0 1 1 0 0 0 1 1 1 0 0 0 0 0 0 0 0 0 0 0 0 0 1 1 1 1 0 0 0 0\n",
      "  0 0 0 0 0 0 0 0 0 0 0 0 0 0 0 0 0 0 0 0 0 0 0 0 0 0 0 0 0 0 0 0 0 0 0 0\n",
      "  0 0 0 0 0 0 0 0 0 0 0 0 0]\n",
      " [0 1 1 1 1 0 1 0 1 0 0 0 1 0 0 0 0 0 0 0 0 0 0 0 0 0 0 0 0 0 0 0 1 1 1 1\n",
      "  1 1 1 1 1 1 1 1 1 0 0 0 0 0 0 0 0 0 0 0 0 0 0 0 0 0 0 0 0 0 0 0 0 0 0 0\n",
      "  0 0 0 0 0 0 0 0 0 0 0 0 0]\n",
      " [1 1 1 1 1 0 0 0 0 0 0 0 0 1 1 0 0 0 0 0 0 0 0 0 0 0 0 0 0 0 0 0 0 0 0 0\n",
      "  0 0 0 0 0 0 0 0 0 1 1 1 1 1 1 1 1 1 1 1 1 1 1 0 0 0 0 0 0 0 0 0 0 0 0 0\n",
      "  0 0 0 0 0 0 0 0 0 0 0 0 0]\n",
      " [1 1 1 0 0 1 1 1 0 0 1 0 0 0 0 0 0 0 0 0 0 0 0 0 0 0 0 0 0 0 0 0 0 0 0 0\n",
      "  0 0 0 0 0 0 0 0 0 0 0 0 0 0 0 0 0 0 0 0 0 0 0 1 1 1 1 1 1 1 0 0 0 0 0 0\n",
      "  0 0 0 0 0 0 0 0 0 0 0 0 0]\n",
      " [1 1 1 1 1 1 0 0 1 1 0 1 0 0 0 0 0 0 0 0 0 0 0 0 0 0 0 0 0 0 0 0 0 0 0 0\n",
      "  0 0 0 0 0 0 0 0 0 0 0 0 0 0 0 0 0 0 0 0 0 0 0 0 0 0 0 0 0 0 1 1 1 1 1 1\n",
      "  1 1 1 1 1 1 1 1 1 1 1 1 1]]\n"
     ]
    },
    {
     "data": {
      "image/png": "[encoded data removed]",
      "text/plain": [
       "<Figure size 640x480 with 1 Axes>"
      ]
     },
     "metadata": {},
     "output_type": "display_data"
    }
   ],
   "source": [
    "import matplotlib.pyplot as plt\n",
    "\n",
    "x = np.array(x)\n",
    "y = np.sort(x)\n",
    "\n",
    "plt.title('Line graph')\n",
    "plt.plot(x,y, color='red')\n",
    "print(x)\n"
   ]
  },
  {
   "cell_type": "code",
   "execution_count": 23,
   "metadata": {},
   "outputs": [],
   "source": [
    "# IDF matrix \n",
    "\n",
    "# sourcery skip: sum-comprehension\n",
    "word_idfs = {}\n",
    "\n",
    "for word in freq_words:\n",
    "   doc_count = 0\n",
    "   for data in ds:\n",
    "      if word in nltk.word_tokenize(data):\n",
    "         doc_count += 1\n",
    "   word_idfs[word] = np.log(len(ds)/doc_count+1) \n",
    "   # display(word_idfs)"
   ]
  },
  {
   "cell_type": "code",
   "execution_count": 24,
   "metadata": {},
   "outputs": [],
   "source": [
    "# TF Matrix\n",
    "\n",
    "# sourcery skip: sum-comprehension\n",
    "tf_matrix = {}\n",
    "for word in freq_words:\n",
    "   doc_tf = []\n",
    "   for data in ds:\n",
    "      frequency = 0\n",
    "      for w in nltk.word_tokenize(data):\n",
    "         if w == word:\n",
    "            frequency += 1\n",
    "      tf_word = frequency/len(nltk.word_tokenize(data))\n",
    "      doc_tf.append(tf_word)\n",
    "   tf_matrix[word] = doc_tf\n",
    "   # print(tf_matrix)"
   ]
  },
  {
   "cell_type": "code",
   "execution_count": 25,
   "metadata": {},
   "outputs": [
    {
     "data": {
      "image/png": "[encoded data removed]",
      "text/plain": [
       "<Figure size 640x480 with 2 Axes>"
      ]
     },
     "metadata": {},
     "output_type": "display_data"
    }
   ],
   "source": [
    "# Tf-IDF matrix\n",
    "import seaborn as sns\n",
    "tfidf_matrix = []\n",
    "for word in tf_matrix.keys():\n",
    "   tfidf = []\n",
    "   for value in tf_matrix[word]:\n",
    "      score = value * word_idfs[word]\n",
    "      tfidf.append(score)\n",
    "   tfidf_matrix.append(tfidf)\n",
    "   # print(tfidf_matrix)\n",
    "   \n",
    "X = np.asarray(tfidf_matrix)\n",
    "\n",
    "X = np.transpose(X)\n",
    "ax = sns.heatmap(X, linewidth=0.5)\n",
    "plt.show()"
   ]
  },
  {
   "attachments": {},
   "cell_type": "markdown",
   "metadata": {},
   "source": [
    "N-Gram Modelling"
   ]
  },
  {
   "cell_type": "code",
   "execution_count": null,
   "metadata": {},
   "outputs": [],
   "source": []
  }
 ],
 "metadata": {
  "kernelspec": {
   "display_name": "Python 3",
   "language": "python",
   "name": "python3"
  },
  "language_info": {
   "codemirror_mode": {
    "name": "ipython",
    "version": 3
   },
   "file_extension": ".py",
   "mimetype": "text/x-python",
   "name": "python",
   "nbconvert_exporter": "python",
   "pygments_lexer": "ipython3",
   "version": "3.9.6"
  },
  "orig_nbformat": 4,
  "vscode": {
   "interpreter": {
    "hash": "6ea99805fb1a33f78233c23f36ad43fe557b70cc5e5f818284db166ab5280275"
   }
  }
 },
 "nbformat": 4,
 "nbformat_minor": 2
}
